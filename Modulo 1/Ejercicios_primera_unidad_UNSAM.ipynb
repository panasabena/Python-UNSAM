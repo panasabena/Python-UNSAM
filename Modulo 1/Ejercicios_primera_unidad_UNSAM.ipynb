{
 "cells": [
  {
   "cell_type": "code",
   "execution_count": 2,
   "metadata": {},
   "outputs": [
    {
     "name": "stdout",
     "output_type": "stream",
     "text": [
      "1 1 0.00011\n",
      "2 2 0.00022\n",
      "3 4 0.00044\n",
      "4 8 0.00088\n",
      "5 16 0.00176\n",
      "6 32 0.00352\n",
      "7 64 0.00704\n",
      "8 128 0.01408\n",
      "9 256 0.02816\n",
      "10 512 0.05632\n",
      "11 1024 0.11264\n",
      "12 2048 0.22528\n",
      "13 4096 0.45056\n",
      "14 8192 0.90112\n",
      "15 16384 1.80224\n",
      "16 32768 3.60448\n",
      "17 65536 7.20896\n",
      "18 131072 14.41792\n",
      "19 262144 28.83584\n",
      "20 524288 57.67168\n",
      "Cantidad de días 21\n",
      "Cantidad de billetes 1048576\n",
      "Altura final 115.34336\n"
     ]
    }
   ],
   "source": [
    "grosor_billete = 0.11 * 0.001 # 0.11 mm en metros\n",
    "altura_obelisco = 67.5         # altura en metros\n",
    "num_billetes = 1\n",
    "dia = 1\n",
    "\n",
    "while num_billetes * grosor_billete <= altura_obelisco:\n",
    "    print(dia, num_billetes, num_billetes * grosor_billete)\n",
    "    dia = dia + 1\n",
    "    num_billetes = num_billetes * 2\n",
    "\n",
    "print('Cantidad de días', dia)\n",
    "print('Cantidad de billetes', num_billetes)\n",
    "print('Altura final', num_billetes * grosor_billete)"
   ]
  },
  {
   "cell_type": "code",
   "execution_count": 33,
   "metadata": {},
   "outputs": [
    {
     "name": "stdout",
     "output_type": "stream",
     "text": [
      "60.0\n",
      "36.0\n",
      "21.6\n",
      "12.96\n",
      "7.776\n",
      "4.6656\n",
      "2.7994\n",
      "1.6796\n",
      "1.0078\n",
      "0.6047\n"
     ]
    }
   ],
   "source": [
    "## Guardar este como:\n",
    "## rebote.py\n",
    "pique=0\n",
    "altura=100\n",
    "piso=3/5\n",
    "rebote=100\n",
    "while pique < 10:\n",
    "    pique+=1\n",
    "    rebote-=rebote-(rebote*piso)\n",
    "    print(round(rebote,4))"
   ]
  },
  {
   "cell_type": "code",
   "execution_count": 34,
   "metadata": {},
   "outputs": [
    {
     "name": "stdout",
     "output_type": "stream",
     "text": [
      "Porfavor ingrese su nombre:\n",
      "alfredo\n",
      "Hola  alfredo\n"
     ]
    }
   ],
   "source": [
    "## Ingrese_su_nombre.py\n",
    "print(\"Porfavor ingrese su nombre:\")\n",
    "usuario=input()\n",
    "print(\"Hola \",usuario)"
   ]
  },
  {
   "cell_type": "code",
   "execution_count": 4,
   "metadata": {},
   "outputs": [
    {
     "name": "stdout",
     "output_type": "stream",
     "text": [
      "Total pagado 966279.6\n",
      "En 360 meses\n"
     ]
    }
   ],
   "source": [
    "# hipoteca.py\n",
    "\n",
    "saldo = 500000.0\n",
    "tasa = 0.05\n",
    "cuota = 2684.11\n",
    "total_pagado = 0.0\n",
    "pagos=[]\n",
    "while saldo > 0:\n",
    "    saldo = saldo * (1+tasa/12) - cuota\n",
    "    total_pagado = total_pagado + cuota\n",
    "    #print(total_pagado, saldo)\n",
    "    pagos.append(saldo)\n",
    "print('Total pagado', round(total_pagado, 2))\n",
    "print(\"En\",len(pagos),\"meses\")"
   ]
  },
  {
   "cell_type": "code",
   "execution_count": 40,
   "metadata": {},
   "outputs": [
    {
     "data": {
      "text/plain": [
       "9000000.0"
      ]
     },
     "execution_count": 40,
     "metadata": {},
     "output_type": "execute_result"
    }
   ],
   "source": [
    "tasa_anual=500000*0.05\n",
    "incremento=tasa_anual*(30*12)\n",
    "incremento"
   ]
  },
  {
   "cell_type": "code",
   "execution_count": 67,
   "metadata": {},
   "outputs": [
    {
     "name": "stdout",
     "output_type": "stream",
     "text": [
      "Total pagado 929965.62\n",
      "342\n"
     ]
    }
   ],
   "source": [
    "## Ejercicio 1.8 Adelantos\n",
    "saldo = 500000.0\n",
    "tasa = 0.05\n",
    "pago_mensual = 2684.11\n",
    "total_pagado = 0.0\n",
    "adelanto=1000\n",
    "pagos=[]\n",
    "mes=1\n",
    "while mes<=12:\n",
    "    mes+=1\n",
    "    saldo = saldo * (1+tasa/12) - pago_mensual-adelanto\n",
    "    total_pagado = total_pagado + pago_mensual+adelanto\n",
    "    pagos.append(saldo)\n",
    "#print(total_pagado,saldo)\n",
    "while saldo > 0:\n",
    "    saldo = saldo * (1+tasa/12) - pago_mensual\n",
    "    total_pagado = total_pagado + pago_mensual\n",
    "    #print(total_pagado, saldo)\n",
    "    pagos.append(saldo)\n",
    "print('Total pagado', round(total_pagado, 2))\n",
    "print(len(pagos))"
   ]
  },
  {
   "cell_type": "code",
   "execution_count": 47,
   "metadata": {},
   "outputs": [
    {
     "name": "stdout",
     "output_type": "stream",
     "text": [
      "1 2684.11 499399.2233333333\n",
      "2 5368.22 498795.9434305556\n",
      "3 8052.33 498190.14986151626\n",
      "4 10736.44 497581.83215260593\n",
      "5 13420.550000000001 496970.97978657513\n",
      "6 16104.660000000002 496357.5822023525\n",
      "7 18788.77 495741.6287948623\n",
      "8 21472.88 495123.1089148409\n",
      "9 24156.99 494502.0118686528\n",
      "10 26841.100000000002 493878.3269181055\n",
      "11 29525.210000000003 493252.04328026425\n",
      "12 32209.320000000003 492623.15012726537\n",
      "13 34893.43 491991.63658612897\n",
      "14 37577.54 491357.4917385712\n",
      "15 40261.65 490720.70462081523\n",
      "16 42945.76 490081.26422340196\n",
      "17 45629.87 489439.1594909995\n",
      "18 48313.98 488794.37932221196\n",
      "19 50998.090000000004 488146.9125693879\n",
      "20 53682.200000000004 487496.748038427\n",
      "21 56366.310000000005 486843.8744885871\n",
      "22 59050.420000000006 486188.28063228953\n",
      "23 61734.530000000006 485529.9551349241\n",
      "24 64418.64000000001 484868.88661465293\n",
      "25 67102.75 484205.063642214\n",
      "26 69786.86 483538.4747407232\n",
      "27 72470.97 482869.1083854762\n",
      "28 75155.08 482196.9530037491\n",
      "29 77839.19 481521.99697459803\n",
      "30 80523.3 480844.22862865886\n",
      "31 83207.41 480163.63624794496\n",
      "32 85891.52 479480.2080656447\n",
      "33 88575.63 478793.93226591824\n",
      "34 91259.74 478104.7969836929\n",
      "35 93943.85 477412.7903044583\n",
      "36 96627.96 476717.9002640602\n",
      "37 99312.07 476020.1148484938\n",
      "38 101996.18000000001 475319.42199369584\n",
      "39 104680.29000000001 474615.80958533625\n",
      "40 107364.40000000001 473909.2654586085\n",
      "41 110048.51000000001 473199.7773980194\n",
      "42 112732.62000000001 472487.3331371778\n",
      "43 115416.73000000001 471771.9203585827\n",
      "44 118100.84000000001 471053.5266934101\n",
      "45 120784.95000000001 470332.13972129935\n",
      "46 123469.06000000001 469607.7469701381\n",
      "47 126153.17000000001 468880.33591584704\n",
      "48 128837.28000000001 468149.8939821631\n",
      "49 131521.39 467416.40854042216\n",
      "50 134205.5 466679.8669093406\n",
      "51 136889.61 465940.2563547962\n",
      "52 139573.71999999997 465197.56408960785\n",
      "53 142257.82999999996 464451.77727331454\n",
      "54 144941.93999999994 463702.8830119534\n",
      "55 147626.04999999993 462950.8683578365\n",
      "56 150310.15999999992 462195.7203093275\n",
      "57 152994.2699999999 461437.42581061635\n",
      "58 155678.3799999999 460675.9717514939\n",
      "59 158362.48999999987 459911.34496712516\n",
      "60 161046.59999999986 459143.5322378215\n",
      "61 163730.70999999985 458372.5202888124\n",
      "62 167414.81999999983 456598.2957900158\n",
      "63 171098.92999999982 454816.6786891408\n",
      "64 174783.0399999998 453027.6381836789\n",
      "65 178467.1499999998 451231.14334277756\n",
      "66 182151.25999999978 449427.1631067058\n",
      "67 185835.36999999976 447615.6662863171\n",
      "68 189519.47999999975 445796.6215625101\n",
      "69 193203.58999999973 443969.9974856872\n",
      "70 196887.69999999972 442135.7624752109\n",
      "71 200571.8099999997 440293.8848188576\n",
      "72 204255.9199999997 438444.3326722695\n",
      "73 207940.02999999968 436587.07405840396\n",
      "74 211624.13999999966 434722.07686698064\n",
      "75 215308.24999999965 432849.3088539264\n",
      "76 218992.35999999964 430968.7376408178\n",
      "77 222676.46999999962 429080.33071432123\n",
      "78 226360.5799999996 427184.0554256309\n",
      "79 230044.6899999996 425279.87898990436\n",
      "80 233728.79999999958 423367.76848569565\n",
      "81 237412.90999999957 421447.6908543861\n",
      "82 241097.01999999955 419519.6128996127\n",
      "83 244781.12999999954 417583.50128669443\n",
      "84 248465.23999999953 415639.3225420557\n",
      "85 252149.3499999995 413687.0430526476\n",
      "86 255833.4599999995 411726.629065367\n",
      "87 259517.56999999948 409758.04668647266\n",
      "88 263201.67999999947 407781.26188099966\n",
      "89 266885.78999999946 405796.2404721705\n",
      "90 270569.89999999944 403802.9481408046\n",
      "91 274254.0099999994 401801.35042472463\n",
      "92 277938.1199999994 399791.412718161\n",
      "93 281622.2299999994 397773.1002711534\n",
      "94 285306.3399999994 395746.37818894984\n",
      "95 288990.4499999994 393711.2114314038\n",
      "96 292674.55999999936 391667.564812368\n",
      "97 296358.66999999934 389615.40299908625\n",
      "98 300042.77999999933 387554.6905115824\n",
      "99 303726.8899999993 385485.39172204735\n",
      "100 307410.9999999993 383407.47085422254\n",
      "101 311095.1099999993 381320.8919827818\n",
      "102 314779.2199999993 379225.6190327101\n",
      "103 318463.32999999926 377121.6157786797\n",
      "104 322147.43999999925 375008.8458444242\n",
      "105 325831.54999999923 372887.2727021093\n",
      "106 329515.6599999992 370756.85967170144\n",
      "107 333199.7699999992 368617.56992033357\n",
      "108 336883.8799999992 366469.3664616683\n",
      "109 340567.9899999992 364312.2121552586\n",
      "110 343252.09999999916 363146.0697059055\n",
      "111 345936.20999999915 361975.0683296801\n",
      "112 348620.31999999913 360799.1877810538\n",
      "113 351304.4299999991 359618.40773014154\n",
      "114 353988.5399999991 358432.70776235044\n",
      "115 356672.6499999991 357242.0673780269\n",
      "116 359356.7599999991 356046.465992102\n",
      "117 362040.86999999906 354845.88293373573\n",
      "118 364724.97999999905 353640.29744595964\n",
      "119 367409.08999999904 352429.6886853178\n",
      "120 370093.199999999 351214.03572150663\n",
      "121 372777.309999999 349993.3175370129\n",
      "122 375461.419999999 348767.5130267505\n",
      "123 378145.529999999 347536.6009976953\n",
      "124 380829.63999999897 346300.56016851903\n",
      "125 383513.74999999895 345059.3691692212\n",
      "126 386197.85999999894 343813.00654075964\n",
      "127 388881.9699999989 342561.45073467947\n",
      "128 391566.0799999989 341304.68011274067\n",
      "129 394250.1899999989 340042.6729465438\n",
      "130 396934.2999999989 338775.4074171544\n",
      "131 399618.40999999887 337502.8616147259\n",
      "132 402302.51999999885 336225.0135381206\n",
      "133 404986.62999999884 334941.84109452943\n",
      "134 407670.7399999988 333653.32209909\n",
      "135 410354.8499999988 332359.43427450286\n",
      "136 413038.9599999988 331060.15525064664\n",
      "137 415723.0699999988 329755.462564191\n",
      "138 418407.17999999877 328445.3336582085\n",
      "139 421091.28999999876 327129.74588178436\n",
      "140 423775.39999999874 325808.6764896251\n",
      "141 426459.5099999987 324482.10264166526\n",
      "142 429143.6199999987 323150.0014026722\n",
      "143 431827.7299999987 321812.34974185\n",
      "144 434511.8399999987 320469.124532441\n",
      "145 437195.9499999987 319120.3025513262\n",
      "146 439880.05999999866 317765.8604786234\n",
      "147 442564.16999999864 316405.77489728434\n",
      "148 445248.27999999863 315040.0222926897\n",
      "149 447932.3899999986 313668.57905224257\n",
      "150 450616.4999999986 312291.42146496027\n",
      "151 453300.6099999986 310908.5257210643\n",
      "152 455984.7199999986 309519.8679115687\n",
      "153 458668.82999999856 308125.4240278669\n",
      "154 461352.93999999855 306725.1699613164\n",
      "155 464037.04999999853 305319.0815028219\n",
      "156 466721.1599999985 303907.134342417\n",
      "157 469405.2699999985 302489.3040688438\n",
      "158 472089.3799999985 301065.5661691306\n",
      "159 474773.4899999985 299635.8960281687\n",
      "160 477457.59999999846 298200.26892828604\n",
      "161 480141.70999999845 296758.66004882054\n",
      "162 482825.81999999844 295311.0444656906\n",
      "163 485509.9299999984 293857.39715096436\n",
      "164 488194.0399999984 292397.6929724267\n",
      "165 490878.1499999984 290931.90669314517\n",
      "166 493562.2599999984 289460.0129710333\n",
      "167 496246.36999999837 287981.9863584126\n",
      "168 498930.47999999835 286497.80130157265\n",
      "169 501614.58999999834 285007.4321403292\n",
      "170 504298.6999999983 283510.85310758057\n",
      "171 506982.8099999983 282008.03832886217\n",
      "172 509666.9199999983 280498.9618218991\n",
      "173 512351.0299999983 278983.59749615705\n",
      "174 515035.13999999827 277461.919152391\n",
      "175 517719.24999999825 275933.9004821927\n",
      "176 520403.35999999824 274399.51506753516\n",
      "177 523087.4699999982 272858.73638031655\n",
      "178 525771.5799999982 271311.5377819012\n",
      "179 528455.6899999982 269757.8925226591\n",
      "180 531139.7999999982 268197.77374150354\n",
      "181 533823.9099999982 266631.15446542646\n",
      "182 536508.0199999982 265058.0076090324\n",
      "183 539192.1299999981 263478.30597407004\n",
      "184 541876.2399999981 261892.02224896202\n",
      "185 544560.3499999981 260299.12900833273\n",
      "186 547244.4599999981 258699.59871253412\n",
      "187 549928.5699999981 257093.4037071697\n",
      "188 552612.6799999981 255480.51622261625\n",
      "189 555296.789999998 253860.90837354382\n",
      "190 557980.899999998 252234.5521584336\n",
      "191 560665.009999998 250601.41945909374\n",
      "192 563349.119999998 248961.48204017332\n",
      "193 566033.229999998 247314.71154867404\n",
      "194 568717.339999998 245661.0795134602\n",
      "195 571401.449999998 244000.55734476628\n",
      "196 574085.559999998 242333.1163337028\n",
      "197 576769.669999998 240658.72765175992\n",
      "198 579453.7799999979 238977.36235030895\n",
      "199 582137.8899999979 237288.9913601019\n",
      "200 584821.9999999979 235593.585490769\n",
      "201 587506.1099999979 233891.1154303139\n",
      "202 590190.2199999979 232181.55174460687\n",
      "203 592874.3299999979 230464.86487687606\n",
      "204 595558.4399999978 228741.0251471964\n",
      "205 598242.5499999978 227010.0027519764\n",
      "206 600926.6599999978 225271.76776344297\n",
      "207 603610.7699999978 223526.29012912398\n",
      "208 606294.8799999978 221773.53967132868\n",
      "209 608978.9899999978 220013.4860866259\n",
      "210 611663.0999999978 218246.09894532018\n",
      "211 614347.2099999978 216471.3476909257\n",
      "212 617031.3199999977 214689.2016396379\n",
      "213 619715.4299999977 212899.62997980308\n",
      "214 622399.5399999977 211102.6017713856\n",
      "215 625083.6499999977 209298.08594543306\n",
      "216 627767.7599999977 207486.05130353905\n",
      "217 630451.8699999977 205666.4665173038\n",
      "218 633135.9799999977 203839.30012779258\n",
      "219 635820.0899999976 202004.5205449917\n",
      "220 638504.1999999976 200162.09604726252\n",
      "221 641188.3099999976 198311.9947807928\n",
      "222 643872.4199999976 196454.1847590461\n",
      "223 646556.5299999976 194588.6338622088\n",
      "224 649240.6399999976 192715.3098366347\n",
      "225 651924.7499999976 190834.18029428736\n",
      "226 654608.8599999975 188945.21271218025\n",
      "227 657292.9699999975 187048.37443181433\n",
      "228 659977.0799999975 185143.63265861355\n",
      "229 662661.1899999975 183230.9544613578\n",
      "230 665345.2999999975 181310.30677161345\n",
      "231 668029.4099999975 179381.65638316184\n",
      "232 670713.5199999975 177444.96995142504\n",
      "233 673397.6299999974 175500.21399288933\n",
      "234 676081.7399999974 173547.35488452637\n",
      "235 678765.8499999974 171586.3588632119\n",
      "236 681449.9599999974 169617.19202514197\n",
      "237 684134.0699999974 167639.82032524672\n",
      "238 686818.1799999974 165654.20957660192\n",
      "239 689502.2899999974 163660.32544983778\n",
      "240 692186.3999999973 161658.13347254545\n",
      "241 694870.5099999973 159647.59902868106\n",
      "242 697554.6199999973 157628.68735796722\n",
      "243 700238.7299999973 155601.3635552921\n",
      "244 702922.8399999973 153565.59257010583\n",
      "245 705606.9499999973 151521.3392058146\n",
      "246 708291.0599999973 149468.56811917218\n",
      "247 710975.1699999972 147407.24381966874\n",
      "248 713659.2799999972 145337.33066891736\n",
      "249 716343.3899999972 143258.79288003786\n",
      "250 719027.4999999972 141171.59451703803\n",
      "251 721711.6099999972 139075.69949419238\n",
      "252 724395.7199999972 136971.0715754182\n",
      "253 727079.8299999972 134857.67437364912\n",
      "254 729763.9399999972 132735.471350206\n",
      "255 732448.0499999971 130604.4258141652\n",
      "256 735132.1599999971 128464.5009217242\n",
      "257 737816.2699999971 126315.65967556472\n",
      "258 740500.3799999971 124157.8649242129\n",
      "259 743184.4899999971 121991.07936139712\n",
      "260 745868.5999999971 119815.26552540294\n",
      "261 748552.709999997 117630.38579842544\n",
      "262 751236.819999997 115436.40240591888\n",
      "263 753920.929999997 113233.27741594354\n",
      "264 756605.039999997 111020.97273850997\n",
      "265 759289.149999997 108799.45012492042\n",
      "266 761973.259999997 106568.67116710759\n",
      "267 764657.369999997 104328.59729697053\n",
      "268 767341.479999997 102079.1897857079\n",
      "269 770025.5899999969 99820.40974314835\n",
      "270 772709.6999999969 97552.21811707814\n",
      "271 775393.8099999969 95274.57569256597\n",
      "272 778077.9199999969 92987.443091285\n",
      "273 780762.0299999969 90690.78077083202\n",
      "274 783446.1399999969 88384.54902404382\n",
      "275 786130.2499999969 86068.70797831067\n",
      "276 788814.3599999968 83743.21759488697\n",
      "277 791498.4699999968 81408.037668199\n",
      "278 794182.5799999968 79063.12782514983\n",
      "279 796866.6899999968 76708.44752442128\n",
      "280 799550.7999999968 74343.95605577303\n",
      "281 802234.9099999968 71969.61253933875\n",
      "282 804919.0199999968 69585.37592491932\n",
      "283 807603.1299999967 67191.20499127316\n",
      "284 810287.2399999967 64787.058345403464\n",
      "285 812971.3499999967 62372.89442184264\n",
      "286 815655.4599999967 59948.67148193365\n",
      "287 818339.5699999967 57514.34761310837\n",
      "288 821023.6799999967 55069.88072816299\n",
      "289 823707.7899999967 52615.228564530335\n",
      "290 826391.8999999966 50150.34868354921\n",
      "291 829076.0099999966 47675.19846973066\n",
      "292 831760.1199999966 45189.7351300212\n",
      "293 834444.2299999966 42693.915693062954\n",
      "294 837128.3399999966 40187.69700845071\n",
      "295 839812.4499999966 37671.03574598592\n",
      "296 842496.5599999966 35143.888394927526\n",
      "297 845180.6699999965 32606.211263239726\n",
      "298 847864.7799999965 30057.960476836557\n",
      "299 850548.8899999965 27499.091978823373\n",
      "300 853232.9999999965 24929.561528735136\n",
      "301 855917.1099999965 22349.32470177153\n",
      "302 858601.2199999965 19758.33688802891\n",
      "303 861285.3299999965 17156.55329172903\n",
      "304 863969.4399999965 14543.928930444567\n",
      "305 866653.5499999964 11920.418634321419\n",
      "306 869337.6599999964 9285.977045297757\n",
      "307 872021.7699999964 6640.558616319831\n",
      "308 874705.8799999964 3984.117610554497\n",
      "309 877389.9899999964 1316.6081005984738\n",
      "310 878706.5981005948 0.0\n",
      "Total pagado:  878706.5981005948\n",
      "Meses:  310\n"
     ]
    },
    {
     "data": {
      "text/plain": [
       "'pagó 878706.5981005948 en el mes 310'"
      ]
     },
     "execution_count": 47,
     "metadata": {},
     "output_type": "execute_result"
    }
   ],
   "source": [
    "## hipoteca.py\n",
    "saldo = 500000.0\n",
    "tasa = 0.05\n",
    "cuota = 2684.11\n",
    "pago_extra_mes_comienzo = 61\n",
    "pago_extra_mes_fin = 108\n",
    "pago_extra = 1000\n",
    "mes=0\n",
    "suma_pagado=0\n",
    "while mes <=(5*12):\n",
    "    mes+=1\n",
    "    saldo=saldo*(tasa/12 + 1)-cuota\n",
    "    suma_pagado=suma_pagado+cuota\n",
    "    print(mes,suma_pagado, saldo)\n",
    "while mes >(5*12) and mes <=pago_extra_mes_fin and saldo>0:\n",
    "    mes+=1\n",
    "    saldo=saldo*(tasa/12 + 1)-cuota-pago_extra\n",
    "    suma_pagado=suma_pagado+cuota+pago_extra\n",
    "    print(mes,suma_pagado, saldo)\n",
    "while mes >108 and saldo>=cuota:\n",
    "    mes+=1\n",
    "    saldo=saldo*(tasa/12 + 1)-cuota\n",
    "    suma_pagado=suma_pagado+cuota\n",
    "    print(mes,suma_pagado,saldo)\n",
    "    if saldo<=cuota:\n",
    "        mes+=1\n",
    "        \n",
    "        saldo_restante=saldo-saldo\n",
    "        suma_pagado=suma_pagado+saldo\n",
    "        print(mes,suma_pagado,saldo_restante)\n",
    "print(\"Total pagado: \", suma_pagado)\n",
    "print(\"Meses: \", mes)\n",
    "f'pagó {suma_pagado} en el mes {mes}'"
   ]
  },
  {
   "cell_type": "code",
   "execution_count": 35,
   "metadata": {},
   "outputs": [
    {
     "name": "stdout",
     "output_type": "stream",
     "text": [
      "Ingrese el radio de una esfera: 6\n",
      "El volumen de la esfera es:  904.7786842338603\n"
     ]
    }
   ],
   "source": [
    "## esfera.py\n",
    "from math import pi\n",
    "radio=int(input(\"Ingrese el radio de una esfera: \"))\n",
    "volumen = (4/3 * pi)*(radio)**3\n",
    "print(\"El volumen de la esfera es: \", volumen)"
   ]
  },
  {
   "cell_type": "code",
   "execution_count": 11,
   "metadata": {},
   "outputs": [
    {
     "name": "stdout",
     "output_type": "stream",
     "text": [
      "M\n",
      "a\n",
      "n\n",
      "i\n",
      "w\n"
     ]
    }
   ],
   "source": [
    "frutas = 'Manzana,Naranja,Mandarina,Banana,Kiwi'\n",
    "print(frutas[0])\n",
    "print(frutas[1])\n",
    "print(frutas[2])\n",
    "print(frutas[-1])\n",
    "print(frutas[-2])"
   ]
  },
  {
   "cell_type": "code",
   "execution_count": 12,
   "metadata": {},
   "outputs": [
    {
     "data": {
      "text/plain": [
       "'Manzana,Naranja,Mandarina,Banana,Kiwi,Pera'"
      ]
     },
     "execution_count": 12,
     "metadata": {},
     "output_type": "execute_result"
    }
   ],
   "source": [
    "frutas = frutas + ',Pera'\n",
    "frutas"
   ]
  },
  {
   "cell_type": "code",
   "execution_count": 13,
   "metadata": {},
   "outputs": [
    {
     "data": {
      "text/plain": [
       "'Melon,Manzana,Naranja,Mandarina,Banana,Kiwi,Pera'"
      ]
     },
     "execution_count": 13,
     "metadata": {},
     "output_type": "execute_result"
    }
   ],
   "source": [
    "frutas = 'Melon,'+frutas\n",
    "frutas"
   ]
  },
  {
   "cell_type": "code",
   "execution_count": 14,
   "metadata": {},
   "outputs": [
    {
     "data": {
      "text/plain": [
       "True"
      ]
     },
     "execution_count": 14,
     "metadata": {},
     "output_type": "execute_result"
    }
   ],
   "source": [
    "'Naranja' in frutas"
   ]
  },
  {
   "cell_type": "code",
   "execution_count": 15,
   "metadata": {},
   "outputs": [
    {
     "data": {
      "text/plain": [
       "True"
      ]
     },
     "execution_count": 15,
     "metadata": {},
     "output_type": "execute_result"
    }
   ],
   "source": [
    "'nana' in frutas"
   ]
  },
  {
   "cell_type": "code",
   "execution_count": 16,
   "metadata": {},
   "outputs": [
    {
     "data": {
      "text/plain": [
       "False"
      ]
     },
     "execution_count": 16,
     "metadata": {},
     "output_type": "execute_result"
    }
   ],
   "source": [
    "'Lima' in frutas"
   ]
  },
  {
   "cell_type": "code",
   "execution_count": 17,
   "metadata": {},
   "outputs": [
    {
     "name": "stdout",
     "output_type": "stream",
     "text": [
      "caracter: E\n",
      "caracter: j\n",
      "caracter: e\n",
      "caracter: m\n",
      "caracter: p\n",
      "caracter: l\n",
      "caracter: o\n",
      "caracter:  \n",
      "caracter: c\n",
      "caracter: o\n",
      "caracter: n\n",
      "caracter:  \n",
      "caracter: f\n",
      "caracter: o\n",
      "caracter: r\n"
     ]
    }
   ],
   "source": [
    "cadena = \"Ejemplo con for\"\n",
    "for c in cadena:\n",
    "    print ('caracter:',c)"
   ]
  },
  {
   "cell_type": "markdown",
   "metadata": {},
   "source": [
    "### Modificá el código anterior de manera que dentro del ciclo el programa cuente cuántas letras \"o\" hay en la cadena."
   ]
  },
  {
   "cell_type": "code",
   "execution_count": 21,
   "metadata": {},
   "outputs": [
    {
     "name": "stdout",
     "output_type": "stream",
     "text": [
      "Cantidad de letras \"o\" en la cadena: 3\n"
     ]
    }
   ],
   "source": [
    "cadena = \"Ejemplo con for\"\n",
    "x=0\n",
    "for c in cadena:\n",
    "    if c=='o':\n",
    "        x+=1\n",
    "print('Cantidad de letras \"o\" en la cadena:', x)        "
   ]
  },
  {
   "cell_type": "markdown",
   "metadata": {},
   "source": [
    "### Ejercicio 1.18: Geringoso rústico¶\n",
    "    Usá una iteración sobre el string cadena para agregar la sílaba 'pa', 'pe', 'pi', 'po', o 'pu' según corresponda luego de cada vocal."
   ]
  },
  {
   "cell_type": "code",
   "execution_count": 35,
   "metadata": {},
   "outputs": [
    {
     "name": "stdout",
     "output_type": "stream",
     "text": [
      "Geperipingoposopo\n"
     ]
    }
   ],
   "source": [
    "cadena = 'Geringoso'\n",
    "capadepenapa = ''\n",
    "for c in cadena:\n",
    "    if c != 'a' or 'e' or 'i' or 'o' or 'u':\n",
    "        capadepenapa = capadepenapa + c\n",
    "    if c == 'a':\n",
    "        capadepenapa = capadepenapa + 'pa'\n",
    "    if c == 'e':\n",
    "        capadepenapa = capadepenapa + 'pe'\n",
    "    if c == 'i':\n",
    "        capadepenapa = capadepenapa + 'pi'\n",
    "    if c == 'o':\n",
    "        capadepenapa = capadepenapa + 'po'\n",
    "    if c == 'u':\n",
    "        capadepenapa = capadepenapa + 'pu'\n",
    "print(capadepenapa) "
   ]
  },
  {
   "cell_type": "code",
   "execution_count": 36,
   "metadata": {},
   "outputs": [
    {
     "data": {
      "text/plain": [
       "'Melon,Manzana,Naranja,Mandarina,Banana,Kiwi,Pera'"
      ]
     },
     "execution_count": 36,
     "metadata": {},
     "output_type": "execute_result"
    }
   ],
   "source": [
    "frutas"
   ]
  },
  {
   "cell_type": "code",
   "execution_count": 37,
   "metadata": {},
   "outputs": [
    {
     "data": {
      "text/plain": [
       "'melon,manzana,naranja,mandarina,banana,kiwi,pera'"
      ]
     },
     "execution_count": 37,
     "metadata": {},
     "output_type": "execute_result"
    }
   ],
   "source": [
    "frutas.lower()"
   ]
  },
  {
   "cell_type": "code",
   "execution_count": 41,
   "metadata": {},
   "outputs": [],
   "source": [
    "frutas = frutas.replace('Kiwi','Melón') ## reemplaza kiwi por melon"
   ]
  },
  {
   "cell_type": "code",
   "execution_count": 39,
   "metadata": {},
   "outputs": [
    {
     "data": {
      "text/plain": [
       "22"
      ]
     },
     "execution_count": 39,
     "metadata": {},
     "output_type": "execute_result"
    }
   ],
   "source": [
    "frutas.find('Mandarina')"
   ]
  },
  {
   "cell_type": "code",
   "execution_count": 42,
   "metadata": {},
   "outputs": [
    {
     "data": {
      "text/plain": [
       "'Melon,Manzana,Naranja,Mandarina,Banana,Melón,Pera'"
      ]
     },
     "execution_count": 42,
     "metadata": {},
     "output_type": "execute_result"
    }
   ],
   "source": [
    "frutas"
   ]
  },
  {
   "cell_type": "code",
   "execution_count": 43,
   "metadata": {},
   "outputs": [
    {
     "data": {
      "text/plain": [
       "'Naranja'"
      ]
     },
     "execution_count": 43,
     "metadata": {},
     "output_type": "execute_result"
    }
   ],
   "source": [
    "nombre = '   Naranja   \\n'\n",
    "nombre = nombre.strip()\n",
    "nombre"
   ]
  },
  {
   "cell_type": "code",
   "execution_count": 44,
   "metadata": {},
   "outputs": [
    {
     "data": {
      "text/plain": [
       "'100 cajones de Naranja a $91.10'"
      ]
     },
     "execution_count": 44,
     "metadata": {},
     "output_type": "execute_result"
    }
   ],
   "source": [
    "nombre = 'Naranja'\n",
    "cajones = 100\n",
    "precio = 91.1\n",
    "f'{cajones} cajones de {nombre} a ${precio:0.2f}'"
   ]
  },
  {
   "cell_type": "code",
   "execution_count": 52,
   "metadata": {},
   "outputs": [
    {
     "data": {
      "text/plain": [
       "['6/8/2020', '7/8/2020']"
      ]
     },
     "execution_count": 52,
     "metadata": {},
     "output_type": "execute_result"
    }
   ],
   "source": [
    "texto = 'Hoy es 6/8/2020. Mañana será 7/8/2020.'\n",
    " # Encontrar las apariciones de una fecha en el texto\n",
    "import re\n",
    "re.findall(r'\\d+/\\d+/\\d+', texto)"
   ]
  },
  {
   "cell_type": "code",
   "execution_count": 53,
   "metadata": {},
   "outputs": [
    {
     "name": "stdout",
     "output_type": "stream",
     "text": [
      "Hoy es 6/8/2020. Mañana será 7/8/2020.\n"
     ]
    }
   ],
   "source": [
    "# Reemplazá esas apariciones, cambiando el formato\n",
    "re.sub(r'(\\d+)/(\\d+)/(\\d+)', r'\\3-\\2-\\1', texto)\n",
    "print(texto)"
   ]
  },
  {
   "cell_type": "code",
   "execution_count": 55,
   "metadata": {},
   "outputs": [
    {
     "data": {
      "text/plain": [
       "True"
      ]
     },
     "execution_count": 55,
     "metadata": {},
     "output_type": "execute_result"
    }
   ],
   "source": [
    "s = 'hello world'\n",
    "s.isascii()"
   ]
  },
  {
   "cell_type": "code",
   "execution_count": 56,
   "metadata": {},
   "outputs": [
    {
     "data": {
      "text/plain": [
       "['__add__',\n",
       " '__class__',\n",
       " '__contains__',\n",
       " '__delattr__',\n",
       " '__dir__',\n",
       " '__doc__',\n",
       " '__eq__',\n",
       " '__format__',\n",
       " '__ge__',\n",
       " '__getattribute__',\n",
       " '__getitem__',\n",
       " '__getnewargs__',\n",
       " '__gt__',\n",
       " '__hash__',\n",
       " '__init__',\n",
       " '__init_subclass__',\n",
       " '__iter__',\n",
       " '__le__',\n",
       " '__len__',\n",
       " '__lt__',\n",
       " '__mod__',\n",
       " '__mul__',\n",
       " '__ne__',\n",
       " '__new__',\n",
       " '__reduce__',\n",
       " '__reduce_ex__',\n",
       " '__repr__',\n",
       " '__rmod__',\n",
       " '__rmul__',\n",
       " '__setattr__',\n",
       " '__sizeof__',\n",
       " '__str__',\n",
       " '__subclasshook__',\n",
       " 'capitalize',\n",
       " 'casefold',\n",
       " 'center',\n",
       " 'count',\n",
       " 'encode',\n",
       " 'endswith',\n",
       " 'expandtabs',\n",
       " 'find',\n",
       " 'format',\n",
       " 'format_map',\n",
       " 'index',\n",
       " 'isalnum',\n",
       " 'isalpha',\n",
       " 'isascii',\n",
       " 'isdecimal',\n",
       " 'isdigit',\n",
       " 'isidentifier',\n",
       " 'islower',\n",
       " 'isnumeric',\n",
       " 'isprintable',\n",
       " 'isspace',\n",
       " 'istitle',\n",
       " 'isupper',\n",
       " 'join',\n",
       " 'ljust',\n",
       " 'lower',\n",
       " 'lstrip',\n",
       " 'maketrans',\n",
       " 'partition',\n",
       " 'replace',\n",
       " 'rfind',\n",
       " 'rindex',\n",
       " 'rjust',\n",
       " 'rpartition',\n",
       " 'rsplit',\n",
       " 'rstrip',\n",
       " 'split',\n",
       " 'splitlines',\n",
       " 'startswith',\n",
       " 'strip',\n",
       " 'swapcase',\n",
       " 'title',\n",
       " 'translate',\n",
       " 'upper',\n",
       " 'zfill']"
      ]
     },
     "execution_count": 56,
     "metadata": {},
     "output_type": "execute_result"
    }
   ],
   "source": [
    "dir(s)"
   ]
  },
  {
   "cell_type": "code",
   "execution_count": 57,
   "metadata": {},
   "outputs": [
    {
     "data": {
      "text/plain": [
       "['Pera', '100', '490.10']"
      ]
     },
     "execution_count": 57,
     "metadata": {},
     "output_type": "execute_result"
    }
   ],
   "source": [
    "line = 'Pera,100,490.10'\n",
    "row = line.split(',') #la coma indica el elemento que separa\n",
    "row"
   ]
  },
  {
   "cell_type": "code",
   "execution_count": 58,
   "metadata": {},
   "outputs": [
    {
     "data": {
      "text/plain": [
       "[1, 2, 3, 'a', 'b']"
      ]
     },
     "execution_count": 58,
     "metadata": {},
     "output_type": "execute_result"
    }
   ],
   "source": [
    "s = [1, 2, 3]\n",
    "t = ['a', 'b']\n",
    "s + t"
   ]
  },
  {
   "cell_type": "code",
   "execution_count": 63,
   "metadata": {},
   "outputs": [
    {
     "data": {
      "text/plain": [
       "'Luciana'"
      ]
     },
     "execution_count": 63,
     "metadata": {},
     "output_type": "execute_result"
    }
   ],
   "source": [
    "nombres = [ 'Rosita', 'Manuel', 'Luciana' ]\n",
    "\n",
    "nombres[0]  # 'Rosita'\n",
    "nombres[1]  # 'Manuel'\n",
    "nombres[2]  # 'Luciana'"
   ]
  },
  {
   "cell_type": "code",
   "execution_count": 64,
   "metadata": {},
   "outputs": [
    {
     "data": {
      "text/plain": [
       "['Iratxe', 'Rosita', 'Manuel', 'Luciana']"
      ]
     },
     "execution_count": 64,
     "metadata": {},
     "output_type": "execute_result"
    }
   ],
   "source": [
    "nombres.insert(0, 'Iratxe') # Lo inserta como primer elemento. \n",
    "nombres"
   ]
  },
  {
   "cell_type": "code",
   "execution_count": 65,
   "metadata": {},
   "outputs": [
    {
     "data": {
      "text/plain": [
       "True"
      ]
     },
     "execution_count": 65,
     "metadata": {},
     "output_type": "execute_result"
    }
   ],
   "source": [
    "'Rosita' in nombres     # True\n",
    "'Diego' not in nombres"
   ]
  },
  {
   "cell_type": "code",
   "execution_count": 70,
   "metadata": {},
   "outputs": [
    {
     "data": {
      "text/plain": [
       "2"
      ]
     },
     "execution_count": 70,
     "metadata": {},
     "output_type": "execute_result"
    }
   ],
   "source": [
    "nombres = ['Rosita','Manuel','Luciana']\n",
    "nombres.index('Luciana') "
   ]
  },
  {
   "cell_type": "code",
   "execution_count": 71,
   "metadata": {},
   "outputs": [
    {
     "data": {
      "text/plain": [
       "['Rosita', 'Manuel']"
      ]
     },
     "execution_count": 71,
     "metadata": {},
     "output_type": "execute_result"
    }
   ],
   "source": [
    "# Usando el valor\n",
    "nombres.remove('Luciana')\n",
    "nombres"
   ]
  },
  {
   "cell_type": "code",
   "execution_count": 72,
   "metadata": {},
   "outputs": [],
   "source": [
    "# Usando la posición\n",
    "del nombres[1]"
   ]
  },
  {
   "cell_type": "code",
   "execution_count": 73,
   "metadata": {},
   "outputs": [
    {
     "data": {
      "text/plain": [
       "['Rosita']"
      ]
     },
     "execution_count": 73,
     "metadata": {},
     "output_type": "execute_result"
    }
   ],
   "source": [
    "nombres"
   ]
  },
  {
   "cell_type": "code",
   "execution_count": 77,
   "metadata": {},
   "outputs": [
    {
     "data": {
      "text/plain": [
       "[1, 3, 7, 10]"
      ]
     },
     "execution_count": 77,
     "metadata": {},
     "output_type": "execute_result"
    }
   ],
   "source": [
    "s = [10, 1, 7, 3]\n",
    "s.sort()                    # [1, 3, 7, 10]\n",
    "s"
   ]
  },
  {
   "cell_type": "code",
   "execution_count": 79,
   "metadata": {},
   "outputs": [
    {
     "data": {
      "text/plain": [
       "[10, 7, 3, 1]"
      ]
     },
     "execution_count": 79,
     "metadata": {},
     "output_type": "execute_result"
    }
   ],
   "source": [
    "# Orden inverso\n",
    "s = [10, 1, 7, 3]\n",
    "s.sort(reverse=True)        # [10, 7, 3, 1]\n",
    "s"
   ]
  },
  {
   "cell_type": "code",
   "execution_count": 120,
   "metadata": {},
   "outputs": [],
   "source": [
    "frutas = 'Frambuesa,Manzana,Naranja,Mandarina,Banana,Sandía,Pera'\n",
    "lista_frutas = frutas.split(',')"
   ]
  },
  {
   "cell_type": "code",
   "execution_count": 121,
   "metadata": {},
   "outputs": [
    {
     "data": {
      "text/plain": [
       "['Frambuesa', 'Manzana', 'Naranja', 'Mandarina', 'Banana', 'Sandía', 'Pera']"
      ]
     },
     "execution_count": 121,
     "metadata": {},
     "output_type": "execute_result"
    }
   ],
   "source": [
    "lista_frutas"
   ]
  },
  {
   "cell_type": "code",
   "execution_count": 122,
   "metadata": {},
   "outputs": [],
   "source": [
    "compra=[]\n",
    "compra.append('Pera')"
   ]
  },
  {
   "cell_type": "code",
   "execution_count": 123,
   "metadata": {},
   "outputs": [
    {
     "data": {
      "text/plain": [
       "['Pera']"
      ]
     },
     "execution_count": 123,
     "metadata": {},
     "output_type": "execute_result"
    }
   ],
   "source": [
    "compra"
   ]
  },
  {
   "cell_type": "code",
   "execution_count": 124,
   "metadata": {},
   "outputs": [
    {
     "data": {
      "text/plain": [
       "['Frambuesa', 'Manzana', 'Naranja', 'Mandarina', 'Banana', 'Pera']"
      ]
     },
     "execution_count": 124,
     "metadata": {},
     "output_type": "execute_result"
    }
   ],
   "source": [
    "lista_frutas[-2:]=compra\n",
    "lista_frutas"
   ]
  },
  {
   "cell_type": "code",
   "execution_count": 125,
   "metadata": {},
   "outputs": [
    {
     "name": "stdout",
     "output_type": "stream",
     "text": [
      "s = Frambuesa\n",
      "s = Manzana\n",
      "s = Naranja\n",
      "s = Mandarina\n",
      "s = Banana\n",
      "s = Pera\n"
     ]
    }
   ],
   "source": [
    "for s in lista_frutas:\n",
    "    print('s =', s)"
   ]
  },
  {
   "cell_type": "code",
   "execution_count": 126,
   "metadata": {},
   "outputs": [
    {
     "data": {
      "text/plain": [
       "False"
      ]
     },
     "execution_count": 126,
     "metadata": {},
     "output_type": "execute_result"
    }
   ],
   "source": [
    "'Granada' in lista_frutas"
   ]
  },
  {
   "cell_type": "code",
   "execution_count": 127,
   "metadata": {},
   "outputs": [
    {
     "data": {
      "text/plain": [
       "False"
      ]
     },
     "execution_count": 127,
     "metadata": {},
     "output_type": "execute_result"
    }
   ],
   "source": [
    "'Frambuesa' not in lista_frutas"
   ]
  },
  {
   "cell_type": "code",
   "execution_count": 128,
   "metadata": {},
   "outputs": [
    {
     "data": {
      "text/plain": [
       "True"
      ]
     },
     "execution_count": 128,
     "metadata": {},
     "output_type": "execute_result"
    }
   ],
   "source": [
    "'Frambuesa' in lista_frutas"
   ]
  },
  {
   "cell_type": "code",
   "execution_count": 129,
   "metadata": {},
   "outputs": [
    {
     "name": "stdout",
     "output_type": "stream",
     "text": [
      "['Frambuesa', 'Lima', 'Manzana', 'Naranja', 'Mandarina', 'Banana', 'Pera']\n"
     ]
    }
   ],
   "source": [
    "lista_frutas.insert(1,'Lima')\n",
    "print(lista_frutas)"
   ]
  },
  {
   "cell_type": "code",
   "execution_count": 131,
   "metadata": {},
   "outputs": [
    {
     "data": {
      "text/plain": [
       "1"
      ]
     },
     "execution_count": 131,
     "metadata": {},
     "output_type": "execute_result"
    }
   ],
   "source": [
    "lista_frutas.index('Lima')"
   ]
  },
  {
   "cell_type": "code",
   "execution_count": 132,
   "metadata": {},
   "outputs": [
    {
     "data": {
      "text/plain": [
       "1"
      ]
     },
     "execution_count": 132,
     "metadata": {},
     "output_type": "execute_result"
    }
   ],
   "source": [
    "lista_frutas.count('Banana')"
   ]
  },
  {
   "cell_type": "code",
   "execution_count": 133,
   "metadata": {},
   "outputs": [],
   "source": [
    "lista_frutas.append('Banana')"
   ]
  },
  {
   "cell_type": "code",
   "execution_count": 134,
   "metadata": {},
   "outputs": [
    {
     "data": {
      "text/plain": [
       "['Frambuesa',\n",
       " 'Lima',\n",
       " 'Manzana',\n",
       " 'Naranja',\n",
       " 'Mandarina',\n",
       " 'Banana',\n",
       " 'Pera',\n",
       " 'Banana']"
      ]
     },
     "execution_count": 134,
     "metadata": {},
     "output_type": "execute_result"
    }
   ],
   "source": [
    "lista_frutas"
   ]
  },
  {
   "cell_type": "code",
   "execution_count": 135,
   "metadata": {},
   "outputs": [],
   "source": [
    "lista_frutas.remove('Banana') ## borra la primera aparicion del elemento"
   ]
  },
  {
   "cell_type": "code",
   "execution_count": 136,
   "metadata": {},
   "outputs": [
    {
     "data": {
      "text/plain": [
       "['Frambuesa', 'Lima', 'Manzana', 'Naranja', 'Mandarina', 'Pera', 'Banana']"
      ]
     },
     "execution_count": 136,
     "metadata": {},
     "output_type": "execute_result"
    }
   ],
   "source": [
    "lista_frutas"
   ]
  },
  {
   "cell_type": "code",
   "execution_count": 137,
   "metadata": {},
   "outputs": [
    {
     "data": {
      "text/plain": [
       "['Banana', 'Frambuesa', 'Lima', 'Mandarina', 'Manzana', 'Naranja', 'Pera']"
      ]
     },
     "execution_count": 137,
     "metadata": {},
     "output_type": "execute_result"
    }
   ],
   "source": [
    "lista_frutas.sort()\n",
    "lista_frutas"
   ]
  },
  {
   "cell_type": "code",
   "execution_count": 138,
   "metadata": {},
   "outputs": [
    {
     "data": {
      "text/plain": [
       "['Pera', 'Naranja', 'Manzana', 'Mandarina', 'Lima', 'Frambuesa', 'Banana']"
      ]
     },
     "execution_count": 138,
     "metadata": {},
     "output_type": "execute_result"
    }
   ],
   "source": [
    "lista_frutas.sort(reverse=True)\n",
    "lista_frutas"
   ]
  },
  {
   "cell_type": "code",
   "execution_count": 141,
   "metadata": {},
   "outputs": [],
   "source": [
    "lista_frutas = ['Banana', 'Mango', 'Frambuesa', 'Pera', 'Granada', 'Manzana', 'Lima']\n",
    "a = ','.join(lista_frutas)\n",
    "b = '<'.join(lista_frutas)\n",
    "c = ''.join(lista_frutas)"
   ]
  },
  {
   "cell_type": "code",
   "execution_count": 140,
   "metadata": {},
   "outputs": [
    {
     "data": {
      "text/plain": [
       "'Banana,Mango,Frambuesa,Pera,Granada,Manzana,Lima'"
      ]
     },
     "execution_count": 140,
     "metadata": {},
     "output_type": "execute_result"
    }
   ],
   "source": [
    "a"
   ]
  },
  {
   "cell_type": "code",
   "execution_count": 142,
   "metadata": {},
   "outputs": [
    {
     "data": {
      "text/plain": [
       "'Banana<Mango<Frambuesa<Pera<Granada<Manzana<Lima'"
      ]
     },
     "execution_count": 142,
     "metadata": {},
     "output_type": "execute_result"
    }
   ],
   "source": [
    "b"
   ]
  },
  {
   "cell_type": "code",
   "execution_count": 143,
   "metadata": {},
   "outputs": [
    {
     "data": {
      "text/plain": [
       "'BananaMangoFrambuesaPeraGranadaManzanaLima'"
      ]
     },
     "execution_count": 143,
     "metadata": {},
     "output_type": "execute_result"
    }
   ],
   "source": [
    "c"
   ]
  },
  {
   "cell_type": "code",
   "execution_count": 144,
   "metadata": {},
   "outputs": [
    {
     "data": {
      "text/plain": [
       "['spam',\n",
       " ['Banana', 'Mango', 'Frambuesa', 'Pera', 'Granada', 'Manzana', 'Lima'],\n",
       " [101, 102, 103]]"
      ]
     },
     "execution_count": 144,
     "metadata": {},
     "output_type": "execute_result"
    }
   ],
   "source": [
    "nums = [101, 102, 103]\n",
    "items = ['spam', lista_frutas, nums]\n",
    "items"
   ]
  },
  {
   "cell_type": "code",
   "execution_count": 145,
   "metadata": {},
   "outputs": [
    {
     "data": {
      "text/plain": [
       "'spam'"
      ]
     },
     "execution_count": 145,
     "metadata": {},
     "output_type": "execute_result"
    }
   ],
   "source": [
    "items[0]"
   ]
  },
  {
   "cell_type": "code",
   "execution_count": 146,
   "metadata": {},
   "outputs": [
    {
     "data": {
      "text/plain": [
       "'s'"
      ]
     },
     "execution_count": 146,
     "metadata": {},
     "output_type": "execute_result"
    }
   ],
   "source": [
    "items[0][0]"
   ]
  },
  {
   "cell_type": "code",
   "execution_count": 147,
   "metadata": {},
   "outputs": [
    {
     "data": {
      "text/plain": [
       "'Mango'"
      ]
     },
     "execution_count": 147,
     "metadata": {},
     "output_type": "execute_result"
    }
   ],
   "source": [
    "items[1][1]"
   ]
  },
  {
   "cell_type": "code",
   "execution_count": 148,
   "metadata": {},
   "outputs": [
    {
     "data": {
      "text/plain": [
       "'n'"
      ]
     },
     "execution_count": 148,
     "metadata": {},
     "output_type": "execute_result"
    }
   ],
   "source": [
    "items[1][1][2]"
   ]
  },
  {
   "cell_type": "code",
   "execution_count": 192,
   "metadata": {},
   "outputs": [
    {
     "name": "stdout",
     "output_type": "stream",
     "text": [
      "todos\n",
      "somos\n"
     ]
    }
   ],
   "source": [
    "frase = 'todos somos programadores'\n",
    "palabras = frase.split()\n",
    "#palabras = list(frase)\n",
    "for i in palabras:\n",
    "    if i[-2:-1] == 'o':\n",
    "        i.replace('o','e')\n",
    "        print (i)"
   ]
  },
  {
   "cell_type": "code",
   "execution_count": 279,
   "metadata": {},
   "outputs": [
    {
     "name": "stdout",
     "output_type": "stream",
     "text": [
      "Ingrese su texto sin traducir: todos somos programadores\n",
      "['todos', 'somos', 'programadores']\n",
      "todes somes programadores\n"
     ]
    }
   ],
   "source": [
    "#inclusive.py\n",
    "frase=input('Ingrese su texto sin traducir: ')\n",
    "frase=frase.split(' ')\n",
    "#print (frase)\n",
    "lista=[]\n",
    "traducida=[]\n",
    "for i in frase:\n",
    "    lista.append(list(i))\n",
    "for i in lista:\n",
    "    if len(i)<2:\n",
    "        lista=''.join(i)\n",
    "        traducida.append(lista)\n",
    "        pass\n",
    "    elif i[-2]=='o':\n",
    "        i[-2]='e'\n",
    "        lista=''.join(i)\n",
    "        traducida.append(lista)\n",
    "    elif i[-2]=='ó':\n",
    "        i[-2]='é'\n",
    "        lista=''.join(i)\n",
    "        traducida.append(lista)\n",
    "    else:\n",
    "        lista=''.join(i)\n",
    "        traducida.append(lista)\n",
    "traducida=' '.join(traducida)\n",
    "print(traducida)"
   ]
  },
  {
   "cell_type": "code",
   "execution_count": 232,
   "metadata": {},
   "outputs": [
    {
     "data": {
      "text/plain": [
       "str"
      ]
     },
     "execution_count": 232,
     "metadata": {},
     "output_type": "execute_result"
    }
   ],
   "source": [
    "type(frase[0])"
   ]
  },
  {
   "cell_type": "code",
   "execution_count": 234,
   "metadata": {},
   "outputs": [
    {
     "data": {
      "text/plain": [
       "['s', 'o', 'm', 'e', 's']"
      ]
     },
     "execution_count": 234,
     "metadata": {},
     "output_type": "execute_result"
    }
   ],
   "source": [
    "somos='somos'\n",
    "somos=list(somos)\n",
    "if somos[3]=='o':\n",
    "    somos[3]='e'\n",
    "#''.join(somos)\n",
    "#frase\n",
    "somos"
   ]
  },
  {
   "cell_type": "code",
   "execution_count": 182,
   "metadata": {},
   "outputs": [
    {
     "data": {
      "text/plain": [
       "'e'"
      ]
     },
     "execution_count": 182,
     "metadata": {},
     "output_type": "execute_result"
    }
   ],
   "source": [
    "frase.count('o')\n",
    "palabras[2][-2:-1]"
   ]
  },
  {
   "cell_type": "code",
   "execution_count": null,
   "metadata": {},
   "outputs": [],
   "source": [
    "for i in palabras:\n",
    "    x=i.count('o')\n",
    "    del i[x]\n",
    "    i.insert(x,'e')\n",
    "    palabras=i.replace(x,'e')\n",
    "    print(palabras)"
   ]
  }
 ],
 "metadata": {
  "kernelspec": {
   "display_name": "Python 3 (ipykernel)",
   "language": "python",
   "name": "python3"
  },
  "language_info": {
   "codemirror_mode": {
    "name": "ipython",
    "version": 3
   },
   "file_extension": ".py",
   "mimetype": "text/x-python",
   "name": "python",
   "nbconvert_exporter": "python",
   "pygments_lexer": "ipython3",
   "version": "3.7.6"
  }
 },
 "nbformat": 4,
 "nbformat_minor": 4
}
